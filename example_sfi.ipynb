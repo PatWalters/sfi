{
 "cells": [
  {
   "cell_type": "markdown",
   "id": "fe3e8bf3",
   "metadata": {},
   "source": [
    "To install: \n",
    "<pre>pip install PyTDC</pre>"
   ]
  },
  {
   "cell_type": "markdown",
   "id": "caring-machinery",
   "metadata": {},
   "source": [
    "An example showing how the LogD predictor can be used to calculate the Solubility Forecast Index (SFI).  As a refresher, the SFI was originally defined in this paper.  \n",
    "\n",
    "Hill, Alan P., and Robert J. Young. \"Getting physical in drug discovery: a contemporary perspective on solubility and hydrophobicity.\" Drug Discovery Today 15.15-16 (2010): 648-655. [https://doi.org/10.1016/j.drudis.2010.05.016](https://doi.org/10.1016/j.drudis.2010.05.016)\n",
    "\n",
    "**SFI = CLogD + #Aromatic Rings**\n",
    "\n"
   ]
  },
  {
   "cell_type": "code",
   "execution_count": 1,
   "id": "significant-record",
   "metadata": {},
   "outputs": [],
   "source": [
    "from tdc.single_pred import ADME\n",
    "from sfi_predictor import SFIPredictor\n",
    "from tqdm import tqdm\n",
    "from rdkit import RDLogger \n",
    "from rdkit import Chem\n",
    "from rdkit.Chem import Descriptors\n",
    "import seaborn as sns\n",
    "import pandas as pd\n",
    "import numpy as np"
   ]
  },
  {
   "cell_type": "markdown",
   "id": "herbal-standard",
   "metadata": {},
   "source": [
    "Grab some solubility data from the [Therapeutic Data Commons](https://tdcommons.ai/), a great source for a variety of ADME and related datasets."
   ]
  },
  {
   "cell_type": "code",
   "execution_count": 2,
   "id": "simple-dividend",
   "metadata": {},
   "outputs": [
    {
     "name": "stderr",
     "output_type": "stream",
     "text": [
      "Downloading...\n",
      "100%|█████████████████████████████████████████████████████████████████████████████████████████████████████| 853k/853k [00:00<00:00, 11.5MiB/s]\n",
      "Loading...\n",
      "Done!\n"
     ]
    }
   ],
   "source": [
    "data = ADME(name = 'Solubility_AqSolDB')\n",
    "sol_df = data.get_data()"
   ]
  },
  {
   "cell_type": "markdown",
   "id": "insured-vatican",
   "metadata": {},
   "source": [
    "Enable Pandas progress_apply"
   ]
  },
  {
   "cell_type": "code",
   "execution_count": 3,
   "id": "arbitrary-chosen",
   "metadata": {},
   "outputs": [],
   "source": [
    "tqdm.pandas()\n",
    "sns.set()"
   ]
  },
  {
   "cell_type": "markdown",
   "id": "compact-desperate",
   "metadata": {},
   "source": [
    "Define a SFIPredictor object"
   ]
  },
  {
   "cell_type": "code",
   "execution_count": 4,
   "id": "valid-bahamas",
   "metadata": {},
   "outputs": [],
   "source": [
    "sfi_predictor = SFIPredictor(\"model_logd.txt\")"
   ]
  },
  {
   "cell_type": "markdown",
   "id": "shared-assurance",
   "metadata": {},
   "source": [
    "Calculate LogD for the dataset"
   ]
  },
  {
   "cell_type": "code",
   "execution_count": null,
   "id": "increased-grace",
   "metadata": {},
   "outputs": [
    {
     "name": "stderr",
     "output_type": "stream",
     "text": [
      " 95%|███████████████████████████████████████████████████████████████████████████████████████████████▌     | 9445/9982 [01:44<00:06, 82.92it/s]"
     ]
    }
   ],
   "source": [
    "RDLogger.DisableLog('rdApp.*')  \n",
    "sol_df['SFI'] = sol_df.Drug.progress_apply(sfi_predictor.predict_smiles)\n",
    "RDLogger.EnableLog('rdApp.*')"
   ]
  },
  {
   "cell_type": "markdown",
   "id": "unavailable-expression",
   "metadata": {},
   "source": [
    "Make sure we don't have any molecules where the calculations failed"
   ]
  },
  {
   "cell_type": "code",
   "execution_count": null,
   "id": "arbitrary-amazon",
   "metadata": {},
   "outputs": [],
   "source": [
    "sol_df.shape, sol_df.dropna().shape"
   ]
  },
  {
   "cell_type": "markdown",
   "id": "yellow-inflation",
   "metadata": {},
   "source": [
    "Define a function to make plots like the one in the paper"
   ]
  },
  {
   "cell_type": "code",
   "execution_count": null,
   "id": "inside-disclaimer",
   "metadata": {},
   "outputs": [],
   "source": [
    "def get_fractions(vc):\n",
    "    low = vc['Low']\n",
    "    med = vc['Medium']\n",
    "    hi = vc['High']\n",
    "    total = low + med + hi\n",
    "    if total > 0:\n",
    "        res = [x/total for x in [low,med,hi]]\n",
    "    else:\n",
    "        res = [0,0,0]\n",
    "    return res\n",
    "    \n",
    "\n",
    "def sfi_plot(df,sfi_column='SFI',logS_column=\"LogS\"):\n",
    "    df['Label'] = pd.cut(df[logS_column],bins=[-100] + [np.log10(x*1e-06) for x in [30,200]] + [100],labels=[\"Low\",\"Medium\",\"High\"])\n",
    "    sfi_bins = [-100] + list(range(1,13)) + [100]\n",
    "    sfi_labels = ['<1'] +[f\"{x}-{x+1}\" for x in range(1,12)] + [\">12\"]\n",
    "    df['sfi_bin'] = pd.cut(df[sfi_column],bins=sfi_bins,labels=sfi_labels)\n",
    "    res = []\n",
    "    bin_counts = []\n",
    "    for k,v in df.groupby('sfi_bin'):\n",
    "        res.append([k]+get_fractions(v.Label.value_counts()))\n",
    "        bin_counts.append(len(v))\n",
    "    sfi_df = pd.DataFrame(res,columns=[\"SFI\",\"Low\",\"Med\",\"High\"])\n",
    "    sns.set()\n",
    "    sns.set(rc={'figure.figsize': (10, 10)})\n",
    "    sns.set_style('white')\n",
    "    sns.set_context('talk')\n",
    "    ax = sfi_df.set_index(\"SFI\").plot(kind=\"bar\",stacked=\"True\",color=['red','yellow','green'])\n",
    "    ax.set_xlabel(\"SFI Bin\")\n",
    "    ax.set_ylabel('Count')\n",
    "    pos = -0.4\n",
    "    for b in bin_counts:\n",
    "        ax.text(pos,1.01,str(b).center(4))\n",
    "        pos = pos+1.0\n",
    "    ax.legend(loc='upper left', bbox_to_anchor=(1.00, 0.75), ncol=1)"
   ]
  },
  {
   "cell_type": "markdown",
   "id": "tropical-ranch",
   "metadata": {},
   "source": [
    "Draw the plot"
   ]
  },
  {
   "cell_type": "code",
   "execution_count": null,
   "id": "weekly-princess",
   "metadata": {},
   "outputs": [],
   "source": [
    "sfi_plot(sol_df,sfi_column='SFI',logS_column=\"Y\")"
   ]
  },
  {
   "cell_type": "code",
   "execution_count": null,
   "id": "civil-kinase",
   "metadata": {},
   "outputs": [],
   "source": []
  }
 ],
 "metadata": {
  "kernelspec": {
   "display_name": "Python 3 (ipykernel)",
   "language": "python",
   "name": "python3"
  },
  "language_info": {
   "codemirror_mode": {
    "name": "ipython",
    "version": 3
   },
   "file_extension": ".py",
   "mimetype": "text/x-python",
   "name": "python",
   "nbconvert_exporter": "python",
   "pygments_lexer": "ipython3",
   "version": "3.9.6"
  }
 },
 "nbformat": 4,
 "nbformat_minor": 5
}
